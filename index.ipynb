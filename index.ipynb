{
 "cells": [
  {
   "cell_type": "markdown",
   "metadata": {},
   "source": [
    "# Introduction"
   ]
  },
  {
   "cell_type": "markdown",
   "metadata": {},
   "source": [
    "## Introduction\n",
    "\n",
    "This lesson summarizes the topics we'll be covering in section 46 and why they'll be important to you as a data scientist."
   ]
  },
  {
   "cell_type": "markdown",
   "metadata": {},
   "source": [
    "## Objectives\n",
    "You will be able to:\n",
    "* Understand and explain what is covered in this section\n",
    "* Understand and explain why the section will help you to become a data scientist"
   ]
  },
  {
   "cell_type": "markdown",
   "metadata": {},
   "source": [
    "## Deep NLP - Sequence Models\n",
    "\n",
    "In this section, we'll continue on our learning path of deep NLP with the notion of sequence models\n",
    "\n",
    "### Sequence Model Use Cases\n",
    "We'll kick off this section by teaching you about Sequence Models, what makes them different from traditional Multi-Layer Perceptrons (or classical densely connected neural networks), and you'll learn about use cases for sequence models, such as applications with text. You'll also learn that deep learning sequence models are also referred to as \"Recurrent Neural Networks\".\n",
    "\n",
    "\n",
    "### Understanding Recurrent Neural Networks\n",
    "Next, you'll dive deeper into understanding Recurrent Neural Networks (RNNs). You'll learn about basic RNN structures and about an adapted form or backpropagation which is referred to as \"backpropagation through time\".\n",
    "\n",
    "\n",
    "### LSTMs and GRUs\n",
    "\n",
    "Additionally, you'll learn about two advanced and special types of neurons in the RNNs that typically outperform basic RNNs, \"Long Short Term Memory\"(LSTM) Cells and \"Gated Recurrent Units\" (GRU)! You'll explore the problems they solve, and compare and contrast the two neurons types to get a feel for what exactly they do and how they do it!\n",
    "\n",
    "\n",
    "### Bidirectional Sequence Models\n",
    "In the last part of this section, you'll learn about so-called \"bi-directional RNNs\", and why they excel at NLP tasks.\n"
   ]
  },
  {
   "cell_type": "markdown",
   "metadata": {},
   "source": [
    "## Summary\n",
    "\n",
    "In this section, you'll dive deeper into NLP in combination with deep Recurrent Neural Networks!"
   ]
  }
 ],
 "metadata": {
  "kernelspec": {
   "display_name": "Python 3",
   "language": "python",
   "name": "python3"
  },
  "language_info": {
   "codemirror_mode": {
    "name": "ipython",
    "version": 3
   },
   "file_extension": ".py",
   "mimetype": "text/x-python",
   "name": "python",
   "nbconvert_exporter": "python",
   "pygments_lexer": "ipython3",
   "version": "3.6.6"
  }
 },
 "nbformat": 4,
 "nbformat_minor": 2
}
